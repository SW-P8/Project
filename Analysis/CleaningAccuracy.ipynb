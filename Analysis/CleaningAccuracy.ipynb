{
 "cells": [
  {
   "cell_type": "code",
   "execution_count": 1,
   "metadata": {},
   "outputs": [
    {
     "name": "stdout",
     "output_type": "stream",
     "text": [
      "pickle done\n",
      "23.54532257744148 avg max 1253.3076429187777\n",
      "25%  12.382640096182275\n",
      "50%  14.187650073116137\n",
      "75%  17.752761654221164\n"
     ]
    }
   ],
   "source": [
    "import copy\n",
    "from math import floor\n",
    "import DTC.json_read_write as json_read_write\n",
    "import pickle\n",
    "with open(\"./pc.pickle\", \"rb\") as fh:\n",
    "    pointcloud = pickle.load(fh)#json_read_write.read_point_cloud_from_json(\"AllcityPC.json\")\n",
    "    fh.close()\n",
    "print(\"pickle done\")\n",
    "safe_areas = json_read_write.read_safe_areas_from_json(\"AllcitySA10.json\")\n",
    "initialization_point = (116.20287663548845, 39.75112986803514)\n",
    "avg = 0\n",
    "maximum = 0\n",
    "i = 0\n",
    "list_of_points = []\n",
    "for k, v in safe_areas.items():\n",
    "    list_of_points.append(copy.copy(v.radius))\n",
    "    maximum = max(maximum, v.radius)\n",
    "    avg += v.radius\n",
    "    if v.radius > 14:\n",
    "        v.radius = 14\n",
    "    i += 1\n",
    "print((avg/i),  \"avg\", \"max\", maximum)\n",
    "list_of_points.sort()\n",
    "print(\"25% \", list_of_points[floor(((len(list_of_points)) * 0.25))])\n",
    "print(\"50% \", list_of_points[floor(((len(list_of_points)) * 0.50))])\n",
    "print(\"75% \", list_of_points[floor(((len(list_of_points)) * 0.75))])\n",
    "name = \"SA10\""
   ]
  },
  {
   "cell_type": "markdown",
   "metadata": {},
   "source": [
    "***We use random.sample to get a random set of trajectories every time this runs***\n",
    "- furthermore, we take 5% of the points and shift them between 1-200m randomly with a random bearing"
   ]
  },
  {
   "cell_type": "code",
   "execution_count": 2,
   "metadata": {},
   "outputs": [],
   "source": [
    "import random\n",
    "from DTC.noise_correction import NoiseCorrection\n",
    "point_cloud = pointcloud\n",
    "randomly_elected_trajectories = random.sample(point_cloud.trajectories, 1467)\n",
    "noise_corrector = NoiseCorrection(safe_areas, initialization_point)"
   ]
  },
  {
   "cell_type": "code",
   "execution_count": 3,
   "metadata": {},
   "outputs": [
    {
     "ename": "KeyboardInterrupt",
     "evalue": "",
     "output_type": "error",
     "traceback": [
      "\u001b[0;31m---------------------------------------------------------------------------\u001b[0m",
      "\u001b[0;31mKeyboardInterrupt\u001b[0m                         Traceback (most recent call last)",
      "\u001b[1;32m/home/martinmortensen/Documents/Semester_8/project/code/Project/CleaningAccuracy.ipynb Cell 4\u001b[0m line \u001b[0;36m6\n\u001b[1;32m      <a href='vscode-notebook-cell:/home/martinmortensen/Documents/Semester_8/project/code/Project/CleaningAccuracy.ipynb#W3sZmlsZQ%3D%3D?line=3'>4</a>\u001b[0m \u001b[39mif\u001b[39;00m \u001b[39mlen\u001b[39m(trajectory\u001b[39m.\u001b[39mpoints) \u001b[39m==\u001b[39m \u001b[39m0\u001b[39m:\n\u001b[1;32m      <a href='vscode-notebook-cell:/home/martinmortensen/Documents/Semester_8/project/code/Project/CleaningAccuracy.ipynb#W3sZmlsZQ%3D%3D?line=4'>5</a>\u001b[0m     \u001b[39mcontinue\u001b[39;00m\n\u001b[0;32m----> <a href='vscode-notebook-cell:/home/martinmortensen/Documents/Semester_8/project/code/Project/CleaningAccuracy.ipynb#W3sZmlsZQ%3D%3D?line=5'>6</a>\u001b[0m labels_of_cleaned_points \u001b[39m=\u001b[39m noise_corrector\u001b[39m.\u001b[39;49mnoise_detection(trajectory)\n\u001b[1;32m      <a href='vscode-notebook-cell:/home/martinmortensen/Documents/Semester_8/project/code/Project/CleaningAccuracy.ipynb#W3sZmlsZQ%3D%3D?line=6'>7</a>\u001b[0m points_cleaned \u001b[39m+\u001b[39m\u001b[39m=\u001b[39m \u001b[39mlen\u001b[39m(labels_of_cleaned_points)\n\u001b[1;32m      <a href='vscode-notebook-cell:/home/martinmortensen/Documents/Semester_8/project/code/Project/CleaningAccuracy.ipynb#W3sZmlsZQ%3D%3D?line=7'>8</a>\u001b[0m total_points \u001b[39m+\u001b[39m\u001b[39m=\u001b[39m \u001b[39mlen\u001b[39m(trajectory\u001b[39m.\u001b[39mpoints)\n",
      "File \u001b[0;32m~/Documents/Semester_8/project/code/Project/DTC/noise_correction.py:31\u001b[0m, in \u001b[0;36mNoiseCorrection.noise_detection\u001b[0;34m(self, trajectory)\u001b[0m\n\u001b[1;32m     28\u001b[0m     \u001b[39m#low_confidence_safe_areas[data.anchor] = data\u001b[39;00m\n\u001b[1;32m     30\u001b[0m \u001b[39mfor\u001b[39;00m i, point \u001b[39min\u001b[39;00m \u001b[39menumerate\u001b[39m(trajectory\u001b[39m.\u001b[39mpoints):\n\u001b[0;32m---> 31\u001b[0m     nearest_anchor, dist \u001b[39m=\u001b[39m DistanceCalculator\u001b[39m.\u001b[39;49mfind_nearest_neighbour_from_candidates_with_kd_tree(\n\u001b[1;32m     32\u001b[0m         point, \u001b[39mself\u001b[39;49m\u001b[39m.\u001b[39;49msafe_areas_keys_list, \u001b[39mself\u001b[39;49m\u001b[39m.\u001b[39;49msafe_areas_keys_kd_tree, \u001b[39mself\u001b[39;49m\u001b[39m.\u001b[39;49minitialization_point)\n\u001b[1;32m     33\u001b[0m     \u001b[39mself\u001b[39m\u001b[39m.\u001b[39msafe_areas[nearest_anchor]\u001b[39m.\u001b[39madd_to_point_cloud(point)\n\u001b[1;32m     34\u001b[0m     \u001b[39mself\u001b[39m\u001b[39m.\u001b[39msafe_areas[nearest_anchor]\u001b[39m.\u001b[39mupdate_confidence(dist, point, update_function)\n",
      "File \u001b[0;32m~/Documents/Semester_8/project/code/Project/DTC/distance_calculator.py:94\u001b[0m, in \u001b[0;36mDistanceCalculator.find_nearest_neighbour_from_candidates_with_kd_tree\u001b[0;34m(point, candidates, candidates_kd_tree, initialization_point)\u001b[0m\n\u001b[1;32m     91\u001b[0m \u001b[39m@staticmethod\u001b[39m\n\u001b[1;32m     92\u001b[0m \u001b[39mdef\u001b[39;00m \u001b[39mfind_nearest_neighbour_from_candidates_with_kd_tree\u001b[39m(point, candidates: \u001b[39mlist\u001b[39m, candidates_kd_tree: KDTree, initialization_point: \u001b[39mtuple\u001b[39m \u001b[39m=\u001b[39m \u001b[39mNone\u001b[39;00m) \u001b[39m-\u001b[39m\u001b[39m>\u001b[39m \u001b[39mtuple\u001b[39m[\u001b[39mtuple\u001b[39m[\u001b[39mfloat\u001b[39m, \u001b[39mfloat\u001b[39m], \u001b[39mfloat\u001b[39m]:\n\u001b[1;32m     93\u001b[0m     \u001b[39mif\u001b[39;00m \u001b[39mtype\u001b[39m(point) \u001b[39m==\u001b[39m Point:\n\u001b[0;32m---> 94\u001b[0m         (x, y) \u001b[39m=\u001b[39m DistanceCalculator\u001b[39m.\u001b[39;49mcalculate_exact_index_for_point(point, initialization_point)\n\u001b[1;32m     95\u001b[0m     \u001b[39melse\u001b[39;00m:\n\u001b[1;32m     96\u001b[0m         (x, y) \u001b[39m=\u001b[39m point\n",
      "File \u001b[0;32m~/Documents/Semester_8/project/code/Project/DTC/distance_calculator.py:21\u001b[0m, in \u001b[0;36mDistanceCalculator.calculate_exact_index_for_point\u001b[0;34m(point, initialization_point)\u001b[0m\n\u001b[1;32m     18\u001b[0m \u001b[39m@staticmethod\u001b[39m\n\u001b[1;32m     19\u001b[0m \u001b[39mdef\u001b[39;00m \u001b[39mcalculate_exact_index_for_point\u001b[39m(point: Point, initialization_point: \u001b[39mtuple\u001b[39m) \u001b[39m-\u001b[39m\u001b[39m>\u001b[39m \u001b[39mtuple\u001b[39m:\n\u001b[1;32m     20\u001b[0m     \u001b[39m# Calculate x index\u001b[39;00m\n\u001b[0;32m---> 21\u001b[0m     x_offset \u001b[39m=\u001b[39m DistanceCalculator\u001b[39m.\u001b[39;49mget_distance_between_points(initialization_point, (point\u001b[39m.\u001b[39;49mlongitude, initialization_point[\u001b[39m1\u001b[39;49m]))\n\u001b[1;32m     22\u001b[0m     \u001b[39mif\u001b[39;00m point\u001b[39m.\u001b[39mlongitude \u001b[39m<\u001b[39m initialization_point[\u001b[39m0\u001b[39m]:\n\u001b[1;32m     23\u001b[0m         x_offset \u001b[39m=\u001b[39m \u001b[39m-\u001b[39mx_offset\n",
      "File \u001b[0;32m~/Documents/Semester_8/project/code/Project/DTC/distance_calculator.py:57\u001b[0m, in \u001b[0;36mDistanceCalculator.get_distance_between_points\u001b[0;34m(source, target)\u001b[0m\n\u001b[1;32m     54\u001b[0m     (longitude2, latitude2) \u001b[39m=\u001b[39m target\n\u001b[1;32m     56\u001b[0m \u001b[39m# Round distance to cm precision\u001b[39;00m\n\u001b[0;32m---> 57\u001b[0m \u001b[39mreturn\u001b[39;00m \u001b[39mround\u001b[39m(distance\u001b[39m.\u001b[39;49mdistance((latitude1, longitude1), (latitude2, longitude2))\u001b[39m.\u001b[39mmeters, \u001b[39m2\u001b[39m)\n",
      "File \u001b[0;32m~/Documents/Semester_8/project/code/Project/.venv/lib/python3.10/site-packages/geopy/distance.py:540\u001b[0m, in \u001b[0;36mgeodesic.__init__\u001b[0;34m(self, *args, **kwargs)\u001b[0m\n\u001b[1;32m    538\u001b[0m \u001b[39mself\u001b[39m\u001b[39m.\u001b[39mset_ellipsoid(kwargs\u001b[39m.\u001b[39mpop(\u001b[39m'\u001b[39m\u001b[39mellipsoid\u001b[39m\u001b[39m'\u001b[39m, \u001b[39m'\u001b[39m\u001b[39mWGS-84\u001b[39m\u001b[39m'\u001b[39m))\n\u001b[1;32m    539\u001b[0m major, minor, f \u001b[39m=\u001b[39m \u001b[39mself\u001b[39m\u001b[39m.\u001b[39mELLIPSOID\n\u001b[0;32m--> 540\u001b[0m \u001b[39msuper\u001b[39;49m()\u001b[39m.\u001b[39;49m\u001b[39m__init__\u001b[39;49m(\u001b[39m*\u001b[39;49margs, \u001b[39m*\u001b[39;49m\u001b[39m*\u001b[39;49mkwargs)\n",
      "File \u001b[0;32m~/Documents/Semester_8/project/code/Project/.venv/lib/python3.10/site-packages/geopy/distance.py:276\u001b[0m, in \u001b[0;36mDistance.__init__\u001b[0;34m(self, *args, **kwargs)\u001b[0m\n\u001b[1;32m    274\u001b[0m \u001b[39melif\u001b[39;00m \u001b[39mlen\u001b[39m(args) \u001b[39m>\u001b[39m \u001b[39m1\u001b[39m:\n\u001b[1;32m    275\u001b[0m     \u001b[39mfor\u001b[39;00m a, b \u001b[39min\u001b[39;00m util\u001b[39m.\u001b[39mpairwise(args):\n\u001b[0;32m--> 276\u001b[0m         kilometers \u001b[39m+\u001b[39m\u001b[39m=\u001b[39m \u001b[39mself\u001b[39;49m\u001b[39m.\u001b[39;49mmeasure(a, b)\n\u001b[1;32m    278\u001b[0m kilometers \u001b[39m+\u001b[39m\u001b[39m=\u001b[39m units\u001b[39m.\u001b[39mkilometers(\u001b[39m*\u001b[39m\u001b[39m*\u001b[39mkwargs)\n\u001b[1;32m    279\u001b[0m \u001b[39mself\u001b[39m\u001b[39m.\u001b[39m__kilometers \u001b[39m=\u001b[39m kilometers\n",
      "File \u001b[0;32m~/Documents/Semester_8/project/code/Project/.venv/lib/python3.10/site-packages/geopy/distance.py:566\u001b[0m, in \u001b[0;36mgeodesic.measure\u001b[0;34m(self, a, b)\u001b[0m\n\u001b[1;32m    561\u001b[0m \u001b[39mif\u001b[39;00m \u001b[39mnot\u001b[39;00m (\u001b[39misinstance\u001b[39m(\u001b[39mself\u001b[39m\u001b[39m.\u001b[39mgeod, Geodesic) \u001b[39mand\u001b[39;00m\n\u001b[1;32m    562\u001b[0m         \u001b[39mself\u001b[39m\u001b[39m.\u001b[39mgeod\u001b[39m.\u001b[39ma \u001b[39m==\u001b[39m \u001b[39mself\u001b[39m\u001b[39m.\u001b[39mELLIPSOID[\u001b[39m0\u001b[39m] \u001b[39mand\u001b[39;00m\n\u001b[1;32m    563\u001b[0m         \u001b[39mself\u001b[39m\u001b[39m.\u001b[39mgeod\u001b[39m.\u001b[39mf \u001b[39m==\u001b[39m \u001b[39mself\u001b[39m\u001b[39m.\u001b[39mELLIPSOID[\u001b[39m2\u001b[39m]):\n\u001b[1;32m    564\u001b[0m     \u001b[39mself\u001b[39m\u001b[39m.\u001b[39mgeod \u001b[39m=\u001b[39m Geodesic(\u001b[39mself\u001b[39m\u001b[39m.\u001b[39mELLIPSOID[\u001b[39m0\u001b[39m], \u001b[39mself\u001b[39m\u001b[39m.\u001b[39mELLIPSOID[\u001b[39m2\u001b[39m])\n\u001b[0;32m--> 566\u001b[0m s12 \u001b[39m=\u001b[39m \u001b[39mself\u001b[39;49m\u001b[39m.\u001b[39;49mgeod\u001b[39m.\u001b[39;49mInverse(lat1, lon1, lat2, lon2,\n\u001b[1;32m    567\u001b[0m                         Geodesic\u001b[39m.\u001b[39;49mDISTANCE)[\u001b[39m'\u001b[39m\u001b[39ms12\u001b[39m\u001b[39m'\u001b[39m]\n\u001b[1;32m    569\u001b[0m \u001b[39mreturn\u001b[39;00m s12\n",
      "File \u001b[0;32m~/Documents/Semester_8/project/code/Project/.venv/lib/python3.10/site-packages/geographiclib/geodesic.py:1030\u001b[0m, in \u001b[0;36mGeodesic.Inverse\u001b[0;34m(self, lat1, lon1, lat2, lon2, outmask)\u001b[0m\n\u001b[1;32m   1012\u001b[0m \u001b[39mdef\u001b[39;00m \u001b[39mInverse\u001b[39m(\u001b[39mself\u001b[39m, lat1, lon1, lat2, lon2,\n\u001b[1;32m   1013\u001b[0m             outmask \u001b[39m=\u001b[39m GeodesicCapability\u001b[39m.\u001b[39mSTANDARD):\n\u001b[1;32m   1014\u001b[0m \u001b[39m  \u001b[39m\u001b[39m\"\"\"Solve the inverse geodesic problem\u001b[39;00m\n\u001b[1;32m   1015\u001b[0m \n\u001b[1;32m   1016\u001b[0m \u001b[39m  :param lat1: latitude of the first point in degrees\u001b[39;00m\n\u001b[0;32m   (...)\u001b[0m\n\u001b[1;32m   1027\u001b[0m \n\u001b[1;32m   1028\u001b[0m \u001b[39m  \"\"\"\u001b[39;00m\n\u001b[0;32m-> 1030\u001b[0m   a12, s12, salp1,calp1, salp2,calp2, m12, M12, M21, S12 \u001b[39m=\u001b[39m \u001b[39mself\u001b[39;49m\u001b[39m.\u001b[39;49m_GenInverse(\n\u001b[1;32m   1031\u001b[0m     lat1, lon1, lat2, lon2, outmask)\n\u001b[1;32m   1032\u001b[0m   outmask \u001b[39m&\u001b[39m\u001b[39m=\u001b[39m Geodesic\u001b[39m.\u001b[39mOUT_MASK\n\u001b[1;32m   1033\u001b[0m   \u001b[39mif\u001b[39;00m outmask \u001b[39m&\u001b[39m Geodesic\u001b[39m.\u001b[39mLONG_UNROLL:\n",
      "File \u001b[0;32m~/Documents/Semester_8/project/code/Project/.venv/lib/python3.10/site-packages/geographiclib/geodesic.py:876\u001b[0m, in \u001b[0;36mGeodesic._GenInverse\u001b[0;34m(self, lat1, lon1, lat2, lon2, outmask)\u001b[0m\n\u001b[1;32m    870\u001b[0m salp1b \u001b[39m=\u001b[39m Geodesic\u001b[39m.\u001b[39mtiny_; calp1b \u001b[39m=\u001b[39m \u001b[39m-\u001b[39m\u001b[39m1.0\u001b[39m\n\u001b[1;32m    872\u001b[0m \u001b[39mwhile\u001b[39;00m numit \u001b[39m<\u001b[39m Geodesic\u001b[39m.\u001b[39mmaxit2_:\n\u001b[1;32m    873\u001b[0m   \u001b[39m# the WGS84 test set: mean = 1.47, sd = 1.25, max = 16\u001b[39;00m\n\u001b[1;32m    874\u001b[0m   \u001b[39m# WGS84 and random input: mean = 2.85, sd = 0.60\u001b[39;00m\n\u001b[1;32m    875\u001b[0m   (v, salp2, calp2, sig12, ssig1, csig1, ssig2, csig2,\n\u001b[0;32m--> 876\u001b[0m    eps, domg12, dv) \u001b[39m=\u001b[39m \u001b[39mself\u001b[39;49m\u001b[39m.\u001b[39;49m_Lambda12(\n\u001b[1;32m    877\u001b[0m      sbet1, cbet1, dn1, sbet2, cbet2, dn2,\n\u001b[1;32m    878\u001b[0m      salp1, calp1, slam12, clam12, numit \u001b[39m<\u001b[39;49m Geodesic\u001b[39m.\u001b[39;49mmaxit1_,\n\u001b[1;32m    879\u001b[0m      C1a, C2a, C3a)\n\u001b[1;32m    880\u001b[0m   \u001b[39m# Reversed test to allow escape with NaNs\u001b[39;00m\n\u001b[1;32m    881\u001b[0m   \u001b[39mif\u001b[39;00m tripb \u001b[39mor\u001b[39;00m \u001b[39mnot\u001b[39;00m (\u001b[39mabs\u001b[39m(v) \u001b[39m>\u001b[39m\u001b[39m=\u001b[39m (\u001b[39m8\u001b[39m \u001b[39mif\u001b[39;00m tripn \u001b[39melse\u001b[39;00m \u001b[39m1\u001b[39m) \u001b[39m*\u001b[39m Geodesic\u001b[39m.\u001b[39mtol0_):\n",
      "File \u001b[0;32m~/Documents/Semester_8/project/code/Project/.venv/lib/python3.10/site-packages/geographiclib/geodesic.py:683\u001b[0m, in \u001b[0;36mGeodesic._Lambda12\u001b[0;34m(self, sbet1, cbet1, dn1, sbet2, cbet2, dn2, salp1, calp1, slam120, clam120, diffp, C1a, C2a, C3a)\u001b[0m\n\u001b[1;32m    680\u001b[0m \u001b[39mself\u001b[39m\u001b[39m.\u001b[39m_C3f(eps, C3a)\n\u001b[1;32m    681\u001b[0m B312 \u001b[39m=\u001b[39m (Geodesic\u001b[39m.\u001b[39m_SinCosSeries(\u001b[39mTrue\u001b[39;00m, ssig2, csig2, C3a) \u001b[39m-\u001b[39m\n\u001b[1;32m    682\u001b[0m         Geodesic\u001b[39m.\u001b[39m_SinCosSeries(\u001b[39mTrue\u001b[39;00m, ssig1, csig1, C3a))\n\u001b[0;32m--> 683\u001b[0m domg12 \u001b[39m=\u001b[39m  \u001b[39m-\u001b[39m\u001b[39mself\u001b[39m\u001b[39m.\u001b[39mf \u001b[39m*\u001b[39m \u001b[39mself\u001b[39;49m\u001b[39m.\u001b[39;49m_A3f(eps) \u001b[39m*\u001b[39m salp0 \u001b[39m*\u001b[39m (sig12 \u001b[39m+\u001b[39m B312)\n\u001b[1;32m    684\u001b[0m lam12 \u001b[39m=\u001b[39m eta \u001b[39m+\u001b[39m domg12\n\u001b[1;32m    686\u001b[0m \u001b[39mif\u001b[39;00m diffp:\n",
      "File \u001b[0;32m~/Documents/Semester_8/project/code/Project/.venv/lib/python3.10/site-packages/geographiclib/geodesic.py:400\u001b[0m, in \u001b[0;36mGeodesic._A3f\u001b[0;34m(self, eps)\u001b[0m\n\u001b[1;32m    397\u001b[0m       k \u001b[39m+\u001b[39m\u001b[39m=\u001b[39m \u001b[39m1\u001b[39m\n\u001b[1;32m    398\u001b[0m       o \u001b[39m+\u001b[39m\u001b[39m=\u001b[39m m \u001b[39m+\u001b[39m \u001b[39m2\u001b[39m\n\u001b[0;32m--> 400\u001b[0m \u001b[39mdef\u001b[39;00m \u001b[39m_A3f\u001b[39m(\u001b[39mself\u001b[39m, eps):\n\u001b[1;32m    401\u001b[0m \u001b[39m  \u001b[39m\u001b[39m\"\"\"Private: return A3\"\"\"\u001b[39;00m\n\u001b[1;32m    402\u001b[0m   \u001b[39m# Evaluate A3\u001b[39;00m\n",
      "\u001b[0;31mKeyboardInterrupt\u001b[0m: "
     ]
    }
   ],
   "source": [
    "points_cleaned = 0\n",
    "total_points = 0\n",
    "for trajectory in randomly_elected_trajectories:\n",
    "    if len(trajectory.points) == 0:\n",
    "        continue\n",
    "    labels_of_cleaned_points = noise_corrector.noise_detection(trajectory)\n",
    "    points_cleaned += len(labels_of_cleaned_points)\n",
    "    total_points += len(trajectory.points)\n",
    "print(\"Points in randomly elected trajectories: \", total_points)\n",
    "print(\"Points cleaned: \", points_cleaned)"
   ]
  },
  {
   "cell_type": "code",
   "execution_count": null,
   "metadata": {},
   "outputs": [
    {
     "name": "stdout",
     "output_type": "stream",
     "text": [
      "Amount of points to shift:  2754\n",
      "Amount of points actually shifted:  2754\n"
     ]
    }
   ],
   "source": [
    "# use 5% of 52489 - or 5 % of all the points in the collective pointcloud for all trajectories\n",
    "from math import ceil\n",
    "amount_to_shift = ceil(total_points * 0.05)\n",
    "print(\"Amount of points to shift: \", amount_to_shift)\n",
    "\n",
    "list_of_points_in_randomly_elected_trajectories = []\n",
    "for trajectory in randomly_elected_trajectories:\n",
    "    list_of_points_in_randomly_elected_trajectories.extend(trajectory.points)\n",
    "\n",
    "points_to_shift = random.sample(list_of_points_in_randomly_elected_trajectories, amount_to_shift)\n",
    "print(\"Amount of points actually shifted: \", len(points_to_shift))"
   ]
  },
  {
   "cell_type": "code",
   "execution_count": null,
   "metadata": {},
   "outputs": [],
   "source": [
    "from DTC.distance_calculator import DistanceCalculator\n",
    "for point in points_to_shift:\n",
    "    point.set_coordinates(DistanceCalculator.shift_point_with_bearing(point, random.randint(1,200), random.randint(0,359)))\n",
    "    point.noise = True"
   ]
  },
  {
   "cell_type": "markdown",
   "metadata": {},
   "source": [
    "- Clean trajectories following shifting. \n",
    "After Cleaning, make comparison with the old trajectory points"
   ]
  },
  {
   "cell_type": "code",
   "execution_count": null,
   "metadata": {},
   "outputs": [],
   "source": [
    "labels_of_cleaned_points = []\n",
    "for trajectory in randomly_elected_trajectories:\n",
    "    if len(trajectory.points) == 0:\n",
    "        continue\n",
    "    labels_of_locally_cleaned_points = noise_corrector.noise_detection(trajectory)\n",
    "    labels_of_cleaned_points.extend(labels_of_locally_cleaned_points)\n",
    "\n",
    "amount_of_cleaned_points = 0\n",
    "amount_of_noisy_points_cleaned = 0\n",
    "for label in labels_of_cleaned_points:\n",
    "    amount_of_cleaned_points += 1\n",
    "    if label == True:\n",
    "        amount_of_noisy_points_cleaned += 1\n",
    "\n",
    "cleaned = (\"Amount of cleaned points: \", amount_of_cleaned_points)\n",
    "noisy_points_cleaned = (\"Amount of noisy points cleaned: \", amount_of_noisy_points_cleaned)\n",
    "not_noisy_cleaned = (\"Amount of not noisy points cleaned: \", amount_of_cleaned_points - amount_of_noisy_points_cleaned)\n",
    "noisy_not_cleaned = (\"Amount of noisy points not cleaned: \", amount_to_shift - amount_of_noisy_points_cleaned)"
   ]
  },
  {
   "cell_type": "code",
   "execution_count": null,
   "metadata": {},
   "outputs": [],
   "source": [
    "#Calculate accuracy, precision and recall\n",
    "\n",
    "def precision(tp, fp):\n",
    "    return(tp/(tp+fp))\n",
    "\n",
    "def recall(tp, fn):\n",
    "    return(tp/(tp+fn))\n",
    "    \n",
    "def accuracy(tp, tn, fp, fn ):\n",
    "    return((tn+tp)/(tp+tn+fn+fp))\n",
    "\n",
    "#TOTAL - TP - FP - FN\n",
    "precision_ = (f\"Precision = {precision(amount_of_noisy_points_cleaned, (amount_of_cleaned_points - amount_of_noisy_points_cleaned))}\")\n",
    "recall_ = (f\"Recall = {recall(amount_of_noisy_points_cleaned, (amount_to_shift-amount_of_noisy_points_cleaned))}\")\n",
    "accuracy_ = (f\"\"\"Accuracy = {accuracy(amount_of_noisy_points_cleaned, (total_points - amount_of_noisy_points_cleaned - (amount_of_cleaned_points - amount_of_noisy_points_cleaned)\n",
    "      - (amount_to_shift-amount_of_noisy_points_cleaned)), (amount_of_cleaned_points - amount_of_noisy_points_cleaned), (amount_to_shift-amount_of_noisy_points_cleaned))}\"\"\")"
   ]
  },
  {
   "cell_type": "code",
   "execution_count": null,
   "metadata": {},
   "outputs": [],
   "source": [
    "#Output metrics to file\n",
    "output = f\"\"\"\n",
    "SA type {name} \\n\n",
    "total points {total_points} \\n\n",
    "points to shift {amount_to_shift} \\n\n",
    "points shifted {len(points_to_shift)} \\n\n",
    "points cleaned {cleaned} \\n\n",
    "not noisy points cleaned {not_noisy_cleaned} \\n \n",
    "noisy points cleaned {noisy_points_cleaned} \\n\n",
    "noisy points not cleaned {noisy_not_cleaned} \\n \n",
    "Metrics: \\n\n",
    "Precision {precision_} \\n\n",
    "Recall {recall_} \\n\n",
    "Accuracy {accuracy_} \\n\n",
    "\"\"\"\n",
    "\n",
    "with open(\"./Test_results.txt\", \"a\") as fh:\n",
    "    fh.write(output)\n",
    "    fh.close()\n"
   ]
  },
  {
   "cell_type": "code",
   "execution_count": null,
   "metadata": {},
   "outputs": [],
   "source": []
  }
 ],
 "metadata": {
  "kernelspec": {
   "display_name": "Python 3",
   "language": "python",
   "name": "python3"
  },
  "language_info": {
   "codemirror_mode": {
    "name": "ipython",
    "version": 3
   },
   "file_extension": ".py",
   "mimetype": "text/x-python",
   "name": "python",
   "nbconvert_exporter": "python",
   "pygments_lexer": "ipython3",
   "version": "3.10.12"
  }
 },
 "nbformat": 4,
 "nbformat_minor": 2
}
