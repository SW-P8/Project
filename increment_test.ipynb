{
 "cells": [
  {
   "cell_type": "code",
   "execution_count": 1,
   "metadata": {},
   "outputs": [
    {
     "name": "stderr",
     "output_type": "stream",
     "text": [
      "Processing Files: 100%|██████████| 10357/10357 [03:03<00:00, 56.51file/s]\n"
     ]
    }
   ],
   "source": [
    "from DTC.dtc_executor import DTCExecutor\n",
    "from DTC.gridsystem import GridSystem\n",
    "from DTC.route_skeleton import RouteSkeleton\n",
    "from math import ceil\n",
    "\n",
    "\n",
    "executor = DTCExecutor(True)\n",
    "route_skeleton = RouteSkeleton()\n",
    "point_cloud = executor.create_point_cloud_with_n_points(10000000, True, True)\n",
    "\n",
    "grid_system = GridSystem(point_cloud)\n",
    "grid_system.create_grid_system()\n",
    "grid_system.extract_main_route()\n",
    "\n",
    "min_pts = ceil(len(grid_system.main_route) * 0.0001)\n",
    "\n",
    "smr = route_skeleton.smooth_main_route(grid_system.main_route, 20)\n",
    "fmr = route_skeleton.graph_based_filter(smr, 15, min_pts)\n",
    "grid_system.route_skeleton = route_skeleton.filter_sparse_points(fmr, 15)\n",
    "\n",
    "grid_system.construct_safe_areas()"
   ]
  },
  {
   "cell_type": "markdown",
   "metadata": {},
   "source": [
    "# Increment"
   ]
  },
  {
   "cell_type": "code",
   "execution_count": null,
   "metadata": {},
   "outputs": [],
   "source": [
    "from onlinedtc.onlinerunner import RunCleaning\n",
    "\n",
    "clean_executor = RunCleaning(grid_system, smr)"
   ]
  },
  {
   "cell_type": "markdown",
   "metadata": {},
   "source": [
    "### To add some time amount use the following function\n",
    "Parameters are: days, hours, minutes, seconds."
   ]
  },
  {
   "cell_type": "code",
   "execution_count": null,
   "metadata": {},
   "outputs": [],
   "source": [
    "days = 0\n",
    "hours = 1\n",
    "minutes = 0\n",
    "seconds = 0\n",
    "clean_executor._update_time(days, hours, minutes, seconds)"
   ]
  },
  {
   "cell_type": "markdown",
   "metadata": {},
   "source": [
    "### To add a set of trajectories (trajectory point cloud) use the following method."
   ]
  },
  {
   "cell_type": "code",
   "execution_count": null,
   "metadata": {},
   "outputs": [],
   "source": [
    "pc = 'some pc'\n",
    "clean_executor.read_trajectories(pc)"
   ]
  },
  {
   "cell_type": "markdown",
   "metadata": {},
   "source": [
    "### To clean all trajectories that has been input call the following."
   ]
  },
  {
   "cell_type": "code",
   "execution_count": null,
   "metadata": {},
   "outputs": [],
   "source": [
    "clean_executor.clean_and_increment()"
   ]
  }
 ],
 "metadata": {
  "kernelspec": {
   "display_name": ".venv",
   "language": "python",
   "name": "python3"
  },
  "language_info": {
   "codemirror_mode": {
    "name": "ipython",
    "version": 3
   },
   "file_extension": ".py",
   "mimetype": "text/x-python",
   "name": "python",
   "nbconvert_exporter": "python",
   "pygments_lexer": "ipython3",
   "version": "3.11.2"
  }
 },
 "nbformat": 4,
 "nbformat_minor": 2
}
